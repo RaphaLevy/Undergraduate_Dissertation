{
 "cells": [
  {
   "cell_type": "code",
   "execution_count": 1,
   "metadata": {},
   "outputs": [],
   "source": [
    "import numpy as np\n",
    "from scipy.integrate import solve_ivp\n",
    "import matplotlib.pyplot as plt\n",
    "from numpy import cos\n",
    "from math import log\n",
    "from scipy.interpolate import interp1d\n",
    "from ipywidgets import interact, interactive, fixed, interact_manual\n",
    "import ipywidgets as widgets\n",
    "from mpl_toolkits.mplot3d import Axes3D\n",
    "from scipy.optimize import minimize_scalar\n",
    "from scipy.optimize import minimize\n",
    "from mpl_toolkits.mplot3d.art3d import Poly3DCollection\n",
    "from sage.plot.plot3d.parametric_surface import ParametricSurface\n",
    "import plotly.graph_objects as go\n",
    "import plotly.express as px\n",
    "from scipy.optimize import fsolve\n",
    "from sympy import symbols, Eq, solve"
   ]
  },
  {
   "cell_type": "markdown",
   "metadata": {},
   "source": [
    "#### Using the equations:\n",
    "\n",
    "\\begin{gather*}\n",
    "\\begin{cases}\n",
    "\\dfrac{dS_H}{dt} = -ab_2\\bigg(\\dfrac{I_M}{N}\\bigg)S_H\\\\\n",
    "\\\\\n",
    "\\dfrac{dI_H}{dt} = ab_2\\bigg(\\dfrac{I_M}{N}\\bigg)S_H-\\gamma I_H\\\\\n",
    "\\\\\n",
    "\\dfrac{dR_H}{dt} = \\gamma I_H\\\\\n",
    "\\\\\n",
    "\\dfrac{dS_M}{dt} = b - ab_1\\bigg(\\dfrac{I_H}{N}\\bigg)S_M - \\mu S_M\\\\\n",
    "\\\\\n",
    "\\dfrac{dE_M}{dt} = ab_1\\bigg(\\dfrac{I_H}{N}\\bigg)S_M - \\mu E_M - b_3E_M -lE_M\\\\\n",
    "\\\\\n",
    "\\dfrac{dI_M}{dt} = b_3E_M -\\mu I_M\\\\\n",
    "\\end{cases}\n",
    "\\end{gather*}"
   ]
  },
  {
   "cell_type": "markdown",
   "metadata": {},
   "source": [
    "$\\mathcal{R}_0$ (SIR):\n",
    "\n",
    "$$\\Big | \\dfrac{ab_2}{\\gamma}\\Big |$$"
   ]
  },
  {
   "cell_type": "markdown",
   "metadata": {},
   "source": [
    "$\\mathcal{R}_0$ (SEI):\n",
    "\n",
    "$$\\Big | \\dfrac{ab_1b_3}{(b_3+l+ \\mu)\\mu}\\Big |$$"
   ]
  },
  {
   "cell_type": "markdown",
   "metadata": {},
   "source": [
    "$\\mathcal{R}_0$ (SIR/SEI):\n",
    "\n",
    "$$\\Big | \\sqrt{\\dfrac{a^2 b_1 b_2 b_3}{(b_3 +  l + \\mu) \\gamma \\mu}}\\Big |$$"
   ]
  },
  {
   "cell_type": "code",
   "execution_count": 2,
   "metadata": {},
   "outputs": [],
   "source": [
    "def R0_sir(a, b2, gamma):\n",
    "    return abs((a * b2) / gamma)\n",
    "    \n",
    "#R0_sir_curr = R0_sir(a_curr, b2, gamma)\n",
    "    \n",
    "def R0_sei(a, b1, b3, l, mu):\n",
    "    return abs((a * b1 * b3) / ((b3 + l) * mu + mu** 2))\n",
    "    \n",
    "#R0_sei_curr = R0_sei(a_curr, b1, b3_curr, l_curr, mu_curr)\n",
    "    \n",
    "def R0_full(a, b1, b2, b3, gamma, l, mu):\n",
    "    return abs(((a** 2 * b1 * b2 * b3) / (b3 * gamma * mu + gamma * l * mu + gamma * mu** 2))**(1/2))\n",
    "    \n",
    "#R0_curr = R0(a_curr, b1, b2, b3_curr, gamma, l_curr, mu_curr)"
   ]
  },
  {
   "cell_type": "code",
   "execution_count": 3,
   "metadata": {},
   "outputs": [],
   "source": [
    "def calculate_initial_values(R_L, T_prime, Tmin, DD, D1, T1, T2, omega1, phi1, R1, R2, omega2, phi2,\n",
    "                            p_ML, p_ME, p_MP, c1, c2, A, B, C, b1, b2, gamma):\n",
    "    \n",
    "    T0 = T1 * (1 + T2 * cos(omega1 * 0 - phi1))\n",
    "    R0 = R1 * (1 + R2 * cos(omega2 * 0 - phi2))\n",
    "\n",
    "    tau_L0 = 1 / (c1 * T0 + c2)\n",
    "\n",
    "    p_LT0 = np.exp(-(c1 * T0 + c2))\n",
    "    \n",
    "    p_LR0 = (4 * p_ML / R_L**2) * R0 * (max(1e-5, R_L - R0))\n",
    "    \n",
    "    p_LRT0 = p_LR0 * p_LT0\n",
    "    \n",
    "    p_ER0 = (4 * p_ME / R_L**2) * R0 * (max(1e-5, R_L - R0))\n",
    "    \n",
    "    p_PR0 = (4 * p_MP / R_L**2) * R0 * (max(1e-5, R_L - R0))\n",
    "\n",
    "    a0 = (max(1e-5, T0 - T_prime)) / D1\n",
    "    b0 = B_E * p_ER0 * p_LRT0 * p_PR0 / (tau_E + tau_L0 + tau_P)\n",
    "\n",
    "    tau_M0 = DD / (max(1e-5, T0 - Tmin))\n",
    "    \n",
    "    b30 =  1 / tau_M0\n",
    "    \n",
    "    p0 = np.exp(-1 / (A * T0**2 + B * T0 + C))\n",
    "    l0 = p0 ** tau_M0\n",
    "\n",
    "    mu0 = -log(p0)\n",
    "\n",
    "    initial_R0_sir = R0_sir(a0, b2, gamma)\n",
    "    initial_R0_sei = R0_sei(a0, b1, b30, l0, mu0)\n",
    "    initial_R0_full = R0_full(a0, b1, b2, b30, gamma, l0, mu0)\n",
    "    \n",
    "    return initial_R0_sir, initial_R0_sei, initial_R0_full"
   ]
  },
  {
   "cell_type": "code",
   "execution_count": 4,
   "metadata": {},
   "outputs": [],
   "source": [
    "T_prime=24.4\n",
    "\n",
    "T1= 26.4 \n",
    "T2= 0.025\n",
    "omega1= 0.017\n",
    "phi1= -1.45\n",
    "\n",
    "R1= 250.083 \n",
    "R2= 0.565\n",
    "omega2= 0.02\n",
    "phi2=1.6\n",
    "\n",
    "B_E=200\n",
    "p_ME=0.9\n",
    "p_ML=0.25\n",
    "p_MP=0.75\n",
    "tau_E=1\n",
    "tau_P=1\n",
    "c1=0.00554\n",
    "c2=-0.06737\n",
    "D1=36.5\n",
    "b1=0.04\n",
    "\n",
    "A=356.3\n",
    "B=15\n",
    "C=-48.78\n",
    "\n",
    "b2=0.09\n",
    "tau_H=10\n",
    "DD=105\n",
    "Tmin=14.5\n",
    "gamma=1/120\n",
    "R_L=450\n",
    "N=8558\n",
    "M=300000  #0\n",
    "\n",
    "E_M0=50000\n",
    "I_M0=0 # None\n",
    "I_H0=1000\n",
    "\n",
    "if E_M0 is None:\n",
    "        E_M0 = M / 100\n",
    "\n",
    "S_H0 = N - I_H0\n",
    "S_M0 = M - E_M0 - I_M0"
   ]
  },
  {
   "cell_type": "code",
   "execution_count": 5,
   "metadata": {},
   "outputs": [],
   "source": [
    "initial_R0_sir, initial_R0_sei, initial_R0_full = calculate_initial_values(R_L, T_prime, Tmin, DD, D1, \n",
    "                                                                           T1, T2, omega1, phi1, R1, R2, omega2, phi2,\n",
    "                                                                           p_ML, p_ME, p_MP, c1, c2, A, B, C, b1, b2, gamma)"
   ]
  },
  {
   "cell_type": "code",
   "execution_count": 6,
   "metadata": {},
   "outputs": [
    {
     "name": "stdout",
     "output_type": "stream",
     "text": [
      "R0 (SIR) = 0.6153135271246742 \n",
      "R0 (SEI) = 58.38703858148659\n",
      "R0 (Full) = 5.993858077060129\n"
     ]
    }
   ],
   "source": [
    "print(f'R0 (SIR) = {initial_R0_sir} \\nR0 (SEI) = {initial_R0_sei}\\nR0 (Full) = {initial_R0_full}')"
   ]
  },
  {
   "cell_type": "markdown",
   "metadata": {},
   "source": [
    "#### Decreasing $A$:"
   ]
  },
  {
   "cell_type": "code",
   "execution_count": 7,
   "metadata": {},
   "outputs": [],
   "source": [
    "A=100"
   ]
  },
  {
   "cell_type": "code",
   "execution_count": 8,
   "metadata": {},
   "outputs": [],
   "source": [
    "initial_R0_sir, initial_R0_sei, initial_R0_full = calculate_initial_values(R_L, T_prime, Tmin, DD, D1, \n",
    "                                                                           T1, T2, omega1, phi1, R1, R2, omega2, phi2,\n",
    "                                                                           p_ML, p_ME, p_MP, c1, c2, A, B, C, b1, b2, gamma)"
   ]
  },
  {
   "cell_type": "code",
   "execution_count": 9,
   "metadata": {},
   "outputs": [
    {
     "name": "stdout",
     "output_type": "stream",
     "text": [
      "R0 (SIR) = 0.6153135271246742 \n",
      "R0 (SEI) = 16.4467054425738\n",
      "R0 (Full) = 3.1811759359473752\n"
     ]
    }
   ],
   "source": [
    "print(f'R0 (SIR) = {initial_R0_sir} \\nR0 (SEI) = {initial_R0_sei}\\nR0 (Full) = {initial_R0_full}')"
   ]
  },
  {
   "cell_type": "code",
   "execution_count": 10,
   "metadata": {},
   "outputs": [],
   "source": [
    "A=50"
   ]
  },
  {
   "cell_type": "code",
   "execution_count": 11,
   "metadata": {},
   "outputs": [],
   "source": [
    "initial_R0_sir, initial_R0_sei, initial_R0_full = calculate_initial_values(R_L, T_prime, Tmin, DD, D1, \n",
    "                                                                           T1, T2, omega1, phi1, R1, R2, omega2, phi2,\n",
    "                                                                           p_ML, p_ME, p_MP, c1, c2, A, B, C, b1, b2, gamma)"
   ]
  },
  {
   "cell_type": "code",
   "execution_count": 12,
   "metadata": {},
   "outputs": [
    {
     "name": "stdout",
     "output_type": "stream",
     "text": [
      "R0 (SIR) = 0.6153135271246742 \n",
      "R0 (SEI) = 8.264822310334955\n",
      "R0 (Full) = 2.2550957777511136\n"
     ]
    }
   ],
   "source": [
    "print(f'R0 (SIR) = {initial_R0_sir} \\nR0 (SEI) = {initial_R0_sei}\\nR0 (Full) = {initial_R0_full}')"
   ]
  },
  {
   "cell_type": "code",
   "execution_count": 13,
   "metadata": {},
   "outputs": [],
   "source": [
    "A=25"
   ]
  },
  {
   "cell_type": "code",
   "execution_count": 14,
   "metadata": {},
   "outputs": [],
   "source": [
    "initial_R0_sir, initial_R0_sei, initial_R0_full = calculate_initial_values(R_L, T_prime, Tmin, DD, D1, \n",
    "                                                                           T1, T2, omega1, phi1, R1, R2, omega2, phi2,\n",
    "                                                                           p_ML, p_ME, p_MP, c1, c2, A, B, C, b1, b2, gamma)"
   ]
  },
  {
   "cell_type": "code",
   "execution_count": 15,
   "metadata": {},
   "outputs": [
    {
     "name": "stdout",
     "output_type": "stream",
     "text": [
      "R0 (SIR) = 0.6153135271246742 \n",
      "R0 (SEI) = 4.173880812245059\n",
      "R0 (Full) = 1.6025745924544381\n"
     ]
    }
   ],
   "source": [
    "print(f'R0 (SIR) = {initial_R0_sir} \\nR0 (SEI) = {initial_R0_sei}\\nR0 (Full) = {initial_R0_full}')"
   ]
  },
  {
   "cell_type": "code",
   "execution_count": 16,
   "metadata": {},
   "outputs": [],
   "source": [
    "A=12.5"
   ]
  },
  {
   "cell_type": "code",
   "execution_count": 17,
   "metadata": {},
   "outputs": [],
   "source": [
    "initial_R0_sir, initial_R0_sei, initial_R0_full = calculate_initial_values(R_L, T_prime, Tmin, DD, D1, \n",
    "                                                                           T1, T2, omega1, phi1, R1, R2, omega2, phi2,\n",
    "                                                                           p_ML, p_ME, p_MP, c1, c2, A, B, C, b1, b2, gamma)"
   ]
  },
  {
   "cell_type": "code",
   "execution_count": 18,
   "metadata": {},
   "outputs": [
    {
     "name": "stdout",
     "output_type": "stream",
     "text": [
      "R0 (SIR) = 0.6153135271246742 \n",
      "R0 (SEI) = 2.128410194571681\n",
      "R0 (Full) = 1.1443948549298952\n"
     ]
    }
   ],
   "source": [
    "print(f'R0 (SIR) = {initial_R0_sir} \\nR0 (SEI) = {initial_R0_sei}\\nR0 (Full) = {initial_R0_full}')"
   ]
  },
  {
   "cell_type": "markdown",
   "metadata": {},
   "source": [
    "#### Modifyying $T'$:"
   ]
  },
  {
   "cell_type": "code",
   "execution_count": 19,
   "metadata": {},
   "outputs": [],
   "source": [
    "T_prime=25"
   ]
  },
  {
   "cell_type": "code",
   "execution_count": 20,
   "metadata": {},
   "outputs": [],
   "source": [
    "initial_R0_sir, initial_R0_sei, initial_R0_full = calculate_initial_values(R_L, T_prime, Tmin, DD, D1, \n",
    "                                                                           T1, T2, omega1, phi1, R1, R2, omega2, phi2,\n",
    "                                                                           p_ML, p_ME, p_MP, c1, c2, A, B, C, b1, b2, gamma)"
   ]
  },
  {
   "cell_type": "code",
   "execution_count": 21,
   "metadata": {},
   "outputs": [
    {
     "name": "stdout",
     "output_type": "stream",
     "text": [
      "R0 (SIR) = 0.43777928054933146 \n",
      "R0 (SEI) = 1.5143074914143047\n",
      "R0 (Full) = 0.8142066347812559\n"
     ]
    }
   ],
   "source": [
    "print(f'R0 (SIR) = {initial_R0_sir} \\nR0 (SEI) = {initial_R0_sei}\\nR0 (Full) = {initial_R0_full}')"
   ]
  },
  {
   "cell_type": "code",
   "execution_count": 22,
   "metadata": {},
   "outputs": [],
   "source": [
    "T_prime=25.5"
   ]
  },
  {
   "cell_type": "code",
   "execution_count": 23,
   "metadata": {},
   "outputs": [],
   "source": [
    "initial_R0_sir, initial_R0_sei, initial_R0_full = calculate_initial_values(R_L, T_prime, Tmin, DD, D1, \n",
    "                                                                           T1, T2, omega1, phi1, R1, R2, omega2, phi2,\n",
    "                                                                           p_ML, p_ME, p_MP, c1, c2, A, B, C, b1, b2, gamma)"
   ]
  },
  {
   "cell_type": "code",
   "execution_count": 24,
   "metadata": {},
   "outputs": [
    {
     "name": "stdout",
     "output_type": "stream",
     "text": [
      "R0 (SIR) = 0.2898340750698794 \n",
      "R0 (SEI) = 1.0025552387831584\n",
      "R0 (Full) = 0.5390497846573903\n"
     ]
    }
   ],
   "source": [
    "print(f'R0 (SIR) = {initial_R0_sir} \\nR0 (SEI) = {initial_R0_sei}\\nR0 (Full) = {initial_R0_full}')"
   ]
  },
  {
   "cell_type": "code",
   "execution_count": 25,
   "metadata": {},
   "outputs": [],
   "source": [
    "T_prime=24.8"
   ]
  },
  {
   "cell_type": "code",
   "execution_count": 26,
   "metadata": {},
   "outputs": [],
   "source": [
    "initial_R0_sir, initial_R0_sei, initial_R0_full = calculate_initial_values(R_L, T_prime, Tmin, DD, D1, \n",
    "                                                                           T1, T2, omega1, phi1, R1, R2, omega2, phi2,\n",
    "                                                                           p_ML, p_ME, p_MP, c1, c2, A, B, C, b1, b2, gamma)"
   ]
  },
  {
   "cell_type": "code",
   "execution_count": 27,
   "metadata": {},
   "outputs": [
    {
     "name": "stdout",
     "output_type": "stream",
     "text": [
      "R0 (SIR) = 0.496957362741112 \n",
      "R0 (SEI) = 1.7190083924667623\n",
      "R0 (Full) = 0.9242693748308016\n"
     ]
    }
   ],
   "source": [
    "print(f'R0 (SIR) = {initial_R0_sir} \\nR0 (SEI) = {initial_R0_sei}\\nR0 (Full) = {initial_R0_full}')"
   ]
  },
  {
   "cell_type": "code",
   "execution_count": 28,
   "metadata": {},
   "outputs": [],
   "source": [
    "T_prime=24.4"
   ]
  },
  {
   "cell_type": "code",
   "execution_count": 29,
   "metadata": {},
   "outputs": [],
   "source": [
    "initial_R0_sir, initial_R0_sei, initial_R0_full = calculate_initial_values(R_L, T_prime, Tmin, DD, D1, \n",
    "                                                                           T1, T2, omega1, phi1, R1, R2, omega2, phi2,\n",
    "                                                                           p_ML, p_ME, p_MP, c1, c2, A, B, C, b1, b2, gamma)"
   ]
  },
  {
   "cell_type": "code",
   "execution_count": 30,
   "metadata": {},
   "outputs": [
    {
     "name": "stdout",
     "output_type": "stream",
     "text": [
      "R0 (SIR) = 0.6153135271246742 \n",
      "R0 (SEI) = 2.128410194571681\n",
      "R0 (Full) = 1.1443948549298952\n"
     ]
    }
   ],
   "source": [
    "print(f'R0 (SIR) = {initial_R0_sir} \\nR0 (SEI) = {initial_R0_sei}\\nR0 (Full) = {initial_R0_full}')"
   ]
  },
  {
   "cell_type": "code",
   "execution_count": 31,
   "metadata": {},
   "outputs": [],
   "source": [
    "T_prime=25.6"
   ]
  },
  {
   "cell_type": "code",
   "execution_count": 32,
   "metadata": {},
   "outputs": [],
   "source": [
    "initial_R0_sir, initial_R0_sei, initial_R0_full = calculate_initial_values(R_L, T_prime, Tmin, DD, D1, \n",
    "                                                                           T1, T2, omega1, phi1, R1, R2, omega2, phi2,\n",
    "                                                                           p_ML, p_ME, p_MP, c1, c2, A, B, C, b1, b2, gamma)"
   ]
  },
  {
   "cell_type": "code",
   "execution_count": 33,
   "metadata": {},
   "outputs": [
    {
     "name": "stdout",
     "output_type": "stream",
     "text": [
      "R0 (SIR) = 0.26024503397398857 \n",
      "R0 (SEI) = 0.9002047882569278\n",
      "R0 (Full) = 0.48401841463261647\n"
     ]
    }
   ],
   "source": [
    "print(f'R0 (SIR) = {initial_R0_sir} \\nR0 (SEI) = {initial_R0_sei}\\nR0 (Full) = {initial_R0_full}')"
   ]
  },
  {
   "cell_type": "code",
   "execution_count": 34,
   "metadata": {},
   "outputs": [],
   "source": [
    "T_prime=19.9"
   ]
  },
  {
   "cell_type": "code",
   "execution_count": 35,
   "metadata": {},
   "outputs": [],
   "source": [
    "initial_R0_sir, initial_R0_sei, initial_R0_full = calculate_initial_values(R_L, T_prime, Tmin, DD, D1, \n",
    "                                                                           T1, T2, omega1, phi1, R1, R2, omega2, phi2,\n",
    "                                                                           p_ML, p_ME, p_MP, c1, c2, A, B, C, b1, b2, gamma)"
   ]
  },
  {
   "cell_type": "code",
   "execution_count": 36,
   "metadata": {},
   "outputs": [
    {
     "name": "stdout",
     "output_type": "stream",
     "text": [
      "R0 (SIR) = 1.946820376439743 \n",
      "R0 (SEI) = 6.7341804682519975\n",
      "R0 (Full) = 3.620806506044685\n"
     ]
    }
   ],
   "source": [
    "print(f'R0 (SIR) = {initial_R0_sir} \\nR0 (SEI) = {initial_R0_sei}\\nR0 (Full) = {initial_R0_full}')"
   ]
  },
  {
   "cell_type": "code",
   "execution_count": 37,
   "metadata": {},
   "outputs": [],
   "source": [
    "def b3_correction_model(t, z, T_prime, T1, T2, omega1, phi1, R1, R2, omega2, phi2,\n",
    "                   B_E, p_ME, p_ML, p_MP, tau_E, tau_P, c1, c2,\n",
    "                   D1, b1, A, B, C, b2, tau_H, DD, Tmin, gamma, R_L,\n",
    "                   N, M, E_M0, I_H0, I_M0):\n",
    "    \n",
    "    S_H, I_H, R_H, S_M, E_M, I_M = z\n",
    "    \n",
    "    # Temperature and rain functions\n",
    "    def Temp(t):\n",
    "        return T1 * (1 + T2 * cos(omega1 * t - phi1))\n",
    "\n",
    "    def Rain(t):\n",
    "        return R1 * (1 + R2 * cos(omega2 * t - phi2))\n",
    "\n",
    "    R_curr = Rain(t)\n",
    "    T_curr = Temp(t)\n",
    "    \n",
    "    # Duration of the larval development phase\n",
    "    def tau_L(Temp):\n",
    "        return 1 / (c1 * Temp + c2)\n",
    "    \n",
    "    # Daily mosquito survival rate\n",
    "    def p(Temp):\n",
    "        return np.exp(-1 / (A*Temp**2 + B*Temp + C))\n",
    "    \n",
    "    # Probability of larval survival dependent on temperature and rain\n",
    "    def p_LT(Temp):\n",
    "        return np.exp(-(c1 * Temp + c2))\n",
    "    \n",
    "    def p_LR(Rain):\n",
    "        return (4*p_ML/R_L**2) * Rain * (max(1e-5,R_L - Rain))\n",
    "    \n",
    "    def p_LRT(Rain,Temp):\n",
    "        return p_LR(Rain)*p_LT(Temp)\n",
    "    \n",
    "    # Probability of survival of eggs and pupae dependent on rain\n",
    "    def p_ER(Rain):\n",
    "        return (4*p_ME/R_L**2) * Rain * (max(1e-5,R_L - Rain))\n",
    "    \n",
    "    # Probability of survival of eggs and pupae dependent on rain\n",
    "    def p_PR(Rain):\n",
    "        return (4*p_MP/R_L**2) * Rain * (max(1e-5,R_L - Rain))\n",
    "\n",
    "    # Duration of the sporogonic cycle\n",
    "    def tau_M(Temp):\n",
    "        return DD / (max(1e-5,Temp - Tmin))\n",
    "    \n",
    "    tau_M_curr = tau_M(T_curr)\n",
    "\n",
    "    # Exposed infection rate (1/Duration of the sporogonic cycle)\n",
    "    def b3(tau_M, Temp):\n",
    "        return 1/tau_M\n",
    "    \n",
    "    b3_curr = b3(tau_M_curr, T_curr)\n",
    "    \n",
    "    # Defining the mosquito survival function\n",
    "    def l_tau_M(tau_M, Temp):  \n",
    "        p_T = p(Temp)\n",
    "        return p_T**tau_M\n",
    "    \n",
    "    l_curr = l_tau_M(tau_M_curr, T_curr)\n",
    "\n",
    "    # Defining the mosquito mortality rate\n",
    "    def mu(Temp):\n",
    "        return -log(p(Temp))\n",
    "    \n",
    "    mu_curr = mu(T_curr)\n",
    "    \n",
    "    # Calculate the bite rate and transmission probability\n",
    "    def a(Temp):\n",
    "        return (max(1e-5, Temp - T_prime)) / D1\n",
    "    \n",
    "    a_curr = a(T_curr)\n",
    "    \n",
    "    def b(Rain,Temp):\n",
    "        return B_E * p_ER(Rain) * p_LRT(Rain,Temp) * p_PR(Rain) / (tau_E + tau_L(Temp) + tau_P)\n",
    "    \n",
    "    b_curr = b(R_curr, T_curr)\n",
    "    \n",
    "    dShdt = -a_curr * b2 * (I_M / N) * S_H\n",
    "    dIhdt = a_curr * b2 * (I_M / N) * S_H - gamma * I_H\n",
    "    dRhdt = gamma * I_H\n",
    "    \n",
    "    dSmdt = b_curr - a_curr * b1 * (I_H / N) * S_M - mu_curr * S_M\n",
    "    dEmdt = a_curr * b1 * (I_H / N) * S_M - mu_curr * E_M - b3_curr * E_M - l_curr * E_M\n",
    "    dImdt = b3_curr * E_M - mu_curr * I_M\n",
    "    \n",
    "    return [dShdt, dIhdt, dRhdt, dSmdt, dEmdt, dImdt]"
   ]
  },
  {
   "cell_type": "code",
   "execution_count": 38,
   "metadata": {},
   "outputs": [],
   "source": [
    "args = (T_prime, T1, T2, omega1, phi1, R1, R2, omega2, phi2,\n",
    "                   B_E, p_ME, p_ML, p_MP, tau_E, tau_P, c1, c2,\n",
    "                   D1, b1, A, B, C, b2, tau_H, DD, Tmin, gamma, R_L,\n",
    "                   N, M, E_M0, I_H0, I_M0)"
   ]
  },
  {
   "cell_type": "code",
   "execution_count": 39,
   "metadata": {},
   "outputs": [
    {
     "data": {
      "image/png": "[encoded data removed]",
      "text/plain": [
       "<Figure size 720x432 with 1 Axes>"
      ]
     },
     "metadata": {
      "needs_background": "light"
     },
     "output_type": "display_data"
    }
   ],
   "source": [
    "t_eval = np.linspace(0, 1825, 1000)  # Evaluate the solution at 1000 points between 0 and 1825\n",
    "sol = solve_ivp(b3_correction_model, [0, 1825], [S_H0, I_H0, 0, S_M0, E_M0, 0], args=args, dense_output=True, t_eval=t_eval, method=\"DOP853\")\n",
    "#sol\n",
    "\n",
    "times = sol.t\n",
    "S_H, I_H, R_H, S_M, E_M, I_M = sol.y\n",
    "\n",
    "plt.figure(figsize=(10, 6))\n",
    "plt.plot(times, S_H, label='Susceptible')\n",
    "plt.plot(times, I_H, label='Infected')\n",
    "plt.plot(times, R_H, label='Recovered')\n",
    "\n",
    "plt.xlabel('Time (days)')\n",
    "plt.ylabel('Population')\n",
    "plt.title(f'Malaria SIR Model with Parameters: I_H0={I_H0}, E_M0={E_M0}, A={round(A, 2)}, B={round(B, 2)}, C={round(C, 2)}, gamma={gamma}, R_L={R_L}, T_prime={round(T_prime, 2)}')\n",
    "\n",
    "plt.legend()\n",
    "\n",
    "plt.show()"
   ]
  },
  {
   "cell_type": "code",
   "execution_count": 40,
   "metadata": {},
   "outputs": [
    {
     "data": {
      "image/png": "[encoded data removed]",
      "text/plain": [
       "<Figure size 720x432 with 1 Axes>"
      ]
     },
     "metadata": {
      "needs_background": "light"
     },
     "output_type": "display_data"
    }
   ],
   "source": [
    "t_eval = np.linspace(0, 365, 1000)  # Evaluate the solution at 1000 points between 0 and 365\n",
    "sol = solve_ivp(b3_correction_model, [0, 365], [S_H0, I_H0, 0, S_M0, E_M0, 0], args=args, dense_output=True, t_eval=t_eval, method=\"DOP853\")\n",
    "#sol\n",
    "\n",
    "times = sol.t\n",
    "S_H, I_H, R_H, S_M, E_M, I_M = sol.y\n",
    "\n",
    "plt.figure(figsize=(10, 6))\n",
    "plt.plot(times, S_M, label='Susceptible')\n",
    "plt.plot(times, E_M, label='Exposed')\n",
    "plt.plot(times, I_M, label='Infected')\n",
    "\n",
    "plt.xlabel('Time (days)')\n",
    "plt.ylabel('Population')\n",
    "plt.title(f'Malaria SEI Model with Parameters: I_H0={I_H0}, E_M0={E_M0}, A={round(A, 2)}, B={round(B, 2)}, C={round(C, 2)}, gamma={gamma}, R_L={R_L}, T_prime={round(T_prime, 2)}')\n",
    "\n",
    "plt.legend()\n",
    "\n",
    "plt.show()"
   ]
  },
  {
   "cell_type": "code",
   "execution_count": 41,
   "metadata": {},
   "outputs": [
    {
     "data": {
      "image/png": "[encoded data removed]",
      "text/plain": [
       "<Figure size 720x432 with 1 Axes>"
      ]
     },
     "metadata": {
      "needs_background": "light"
     },
     "output_type": "display_data"
    }
   ],
   "source": [
    "t_eval = np.linspace(0, 1825, 1000)  # Evaluate the solution at 1000 points between 0 and 1825\n",
    "sol = solve_ivp(b3_correction_model, [0, 1825], [N-1, 1, 0, M-1, 1, 0], args=args, dense_output=True, t_eval=t_eval, method=\"DOP853\")\n",
    "#sol\n",
    "\n",
    "times = sol.t\n",
    "S_H, I_H, R_H, S_M, E_M, I_M = sol.y\n",
    "\n",
    "plt.figure(figsize=(10, 6))\n",
    "plt.plot(times, S_H, label='Susceptible')\n",
    "plt.plot(times, I_H, label='Infected')\n",
    "plt.plot(times, R_H, label='Recovered')\n",
    "\n",
    "plt.xlabel('Time (days)')\n",
    "plt.ylabel('Population')\n",
    "plt.title(f'Malaria SIR Model with Parameters: I_H0={I_H0}, E_M0={E_M0}, A={round(A, 2)}, B={round(B, 2)}, C={round(C, 2)}, gamma={gamma}, R_L={R_L}, T_prime={round(T_prime, 2)}')\n",
    "\n",
    "plt.legend()\n",
    "\n",
    "plt.show()"
   ]
  },
  {
   "cell_type": "code",
   "execution_count": 42,
   "metadata": {},
   "outputs": [
    {
     "data": {
      "image/png": "[encoded data removed]",
      "text/plain": [
       "<Figure size 720x432 with 1 Axes>"
      ]
     },
     "metadata": {
      "needs_background": "light"
     },
     "output_type": "display_data"
    }
   ],
   "source": [
    "t_eval = np.linspace(0, 365, 1000)  # Evaluate the solution at 1000 points between 0 and 365\n",
    "sol = solve_ivp(b3_correction_model, [0, 365], [N-1, 1, 0, M-1, 1, 0], args=args, dense_output=True, t_eval=t_eval, method=\"DOP853\")\n",
    "#sol\n",
    "\n",
    "times = sol.t\n",
    "S_H, I_H, R_H, S_M, E_M, I_M = sol.y\n",
    "\n",
    "plt.figure(figsize=(10, 6))\n",
    "plt.plot(times, S_M, label='Susceptible')\n",
    "plt.plot(times, E_M, label='Exposed')\n",
    "plt.plot(times, I_M, label='Infected')\n",
    "\n",
    "plt.xlabel('Time (days)')\n",
    "plt.ylabel('Population')\n",
    "plt.title(f'Malaria SEI Model with Parameters: I_H0={I_H0}, E_M0={E_M0}, A={round(A, 2)}, B={round(B, 2)}, C={round(C, 2)}, gamma={gamma}, R_L={R_L}, T_prime={round(T_prime, 2)}')\n",
    "\n",
    "plt.legend()\n",
    "\n",
    "plt.show()"
   ]
  },
  {
   "cell_type": "markdown",
   "metadata": {},
   "source": [
    "#### Calculating $\\mathcal{R}_0$ for the original parameters from Parham & Michael:"
   ]
  },
  {
   "cell_type": "code",
   "execution_count": 43,
   "metadata": {},
   "outputs": [],
   "source": [
    "T_prime=19.9\n",
    "\n",
    "T1=23.2\n",
    "T2=0.07\n",
    "omega1=0.67\n",
    "phi1=1.53\n",
    "\n",
    "R1=85.9\n",
    "R2=0.98\n",
    "omega2=0.65\n",
    "phi2=1.99\n",
    "\n",
    "B_E=200\n",
    "p_ME=0.9\n",
    "p_ML=0.25\n",
    "p_MP=0.75\n",
    "tau_E=1\n",
    "tau_P=1\n",
    "c1=0.00554\n",
    "c2=-0.06737\n",
    "D1=36.5\n",
    "b1=0.04\n",
    "A=-0.03\n",
    "B=1.31\n",
    "C=-4.4\n",
    "b2=0.09\n",
    "tau_H=10\n",
    "DD=105\n",
    "Tmin=14.5\n",
    "gamma= 1/120\n",
    "R_L = 50\n",
    "M=300000  #0\n",
    "\n",
    "E_M0=50000\n",
    "I_M0=0 # None\n",
    "I_H0=1000\n",
    "\n",
    "if E_M0 is None:\n",
    "        E_M0 = M / 100\n",
    "\n",
    "S_H0 = N - I_H0\n",
    "S_M0 = M - E_M0 - I_M0"
   ]
  },
  {
   "cell_type": "markdown",
   "metadata": {},
   "source": [
    "#### Using $T'$ as the value of $T_1$ defined for the temperature function:"
   ]
  },
  {
   "cell_type": "code",
   "execution_count": 44,
   "metadata": {},
   "outputs": [],
   "source": [
    "initial_R0_sir, initial_R0_sei, initial_R0_full = calculate_initial_values(R_L, T1, Tmin, DD, D1, \n",
    "                                                                           T1, T2, omega1, phi1, R1, R2, omega2, phi2,\n",
    "                                                                           p_ML, p_ME, p_MP, c1, c2, A, B, C, b1, b2, gamma)"
   ]
  },
  {
   "cell_type": "code",
   "execution_count": 45,
   "metadata": {},
   "outputs": [
    {
     "name": "stdout",
     "output_type": "stream",
     "text": [
      "R0 (SIR) = 0.01959825942927436 \n",
      "R0 (SEI) = 0.00012392848185565277\n",
      "R0 (Full) = 0.0015584551767963053\n"
     ]
    }
   ],
   "source": [
    "print(f'R0 (SIR) = {initial_R0_sir} \\nR0 (SEI) = {initial_R0_sei}\\nR0 (Full) = {initial_R0_full}')"
   ]
  },
  {
   "cell_type": "markdown",
   "metadata": {},
   "source": [
    "#### Using $T'$ as the value of $T_1$ defined separately as $19.9^{\\circ}C$ in the article:"
   ]
  },
  {
   "cell_type": "code",
   "execution_count": 46,
   "metadata": {},
   "outputs": [],
   "source": [
    "initial_R0_sir, initial_R0_sei, initial_R0_full = calculate_initial_values(R_L, T_prime, Tmin, DD, D1, \n",
    "                                                                           T1, T2, omega1, phi1, R1, R2, omega2, phi2,\n",
    "                                                                           p_ML, p_ME, p_MP, c1, c2, A, B, C, b1, b2, gamma)"
   ]
  },
  {
   "cell_type": "code",
   "execution_count": 47,
   "metadata": {},
   "outputs": [
    {
     "name": "stdout",
     "output_type": "stream",
     "text": [
      "R0 (SIR) = 0.9960366155936582 \n",
      "R0 (SEI) = 0.006298381041878821\n",
      "R0 (Full) = 0.07920491232664953\n"
     ]
    }
   ],
   "source": [
    "print(f'R0 (SIR) = {initial_R0_sir} \\nR0 (SEI) = {initial_R0_sei}\\nR0 (Full) = {initial_R0_full}')"
   ]
  },
  {
   "cell_type": "code",
   "execution_count": null,
   "metadata": {},
   "outputs": [],
   "source": []
  }
 ],
 "metadata": {
  "kernelspec": {
   "display_name": "SageMath 9.2",
   "language": "sage",
   "name": "sagemath"
  },
  "language_info": {
   "codemirror_mode": {
    "name": "ipython",
    "version": 3
   },
   "file_extension": ".py",
   "mimetype": "text/x-python",
   "name": "python",
   "nbconvert_exporter": "python",
   "pygments_lexer": "ipython3",
   "version": "3.7.7"
  }
 },
 "nbformat": 4,
 "nbformat_minor": 4
}
